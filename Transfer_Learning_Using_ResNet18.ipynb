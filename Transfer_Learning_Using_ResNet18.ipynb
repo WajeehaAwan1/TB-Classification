{
  "nbformat": 4,
  "nbformat_minor": 0,
  "metadata": {
    "colab": {
      "provenance": [],
      "gpuType": "T4"
    },
    "kernelspec": {
      "name": "python3",
      "display_name": "Python 3"
    },
    "language_info": {
      "name": "python"
    },
    "accelerator": "GPU"
  },
  "cells": [
    {
      "cell_type": "markdown",
      "source": [
        "# **FINE TUNING RES-NET18 IN PYTORCH**"
      ],
      "metadata": {
        "id": "FkXRsX8Rk2nV"
      }
    },
    {
      "cell_type": "code",
      "execution_count": 1,
      "metadata": {
        "colab": {
          "base_uri": "https://localhost:8080/"
        },
        "id": "vXRC5tUVkLgE",
        "outputId": "28db2494-387b-451f-eaa3-898ebcd9957d"
      },
      "outputs": [
        {
          "output_type": "stream",
          "name": "stdout",
          "text": [
            "Mounted at /content/drive\n"
          ]
        }
      ],
      "source": [
        "from google.colab import drive\n",
        "drive.mount('/content/drive')"
      ]
    },
    {
      "cell_type": "markdown",
      "source": [
        "# **Imports and Setup**"
      ],
      "metadata": {
        "id": "5Qy5x_D9lLci"
      }
    },
    {
      "cell_type": "code",
      "source": [
        "import torch\n",
        "import torch.nn as nn\n",
        "import torch.optim as optim\n",
        "from torchvision import models, datasets, transforms\n",
        "from torch.utils.data import DataLoader, random_split"
      ],
      "metadata": {
        "id": "yvkrJltBkbg_"
      },
      "execution_count": 2,
      "outputs": []
    },
    {
      "cell_type": "markdown",
      "source": [
        "# **Data Preprocessing**"
      ],
      "metadata": {
        "id": "towuY8DXlRBt"
      }
    },
    {
      "cell_type": "code",
      "source": [
        "data_dir = \"/content/drive/MyDrive/BSFYP-25/BalancedActivePulmonaryTBData\"\n",
        "\n",
        "transform = transforms.Compose([\n",
        "    transforms.Resize((224, 224)),\n",
        "    transforms.ToTensor(),\n",
        "    transforms.Normalize(mean=[0.485, 0.456, 0.406],  # ImageNet mean/std\n",
        "                         std=[0.229, 0.224, 0.225])\n",
        "])\n",
        "\n",
        "dataset = datasets.ImageFolder(root=data_dir, transform=transform)\n",
        "class_names = dataset.classes\n",
        "\n",
        "# Split 80% train, 20% val\n",
        "train_size = int(0.8 * len(dataset))\n",
        "val_size = len(dataset) - train_size\n",
        "train_dataset, val_dataset = random_split(dataset, [train_size, val_size])\n",
        "\n",
        "train_loader = DataLoader(train_dataset, batch_size=32, shuffle=True)\n",
        "val_loader = DataLoader(val_dataset, batch_size=32, shuffle=False)"
      ],
      "metadata": {
        "id": "CZNxXDhFlUcq"
      },
      "execution_count": 3,
      "outputs": []
    },
    {
      "cell_type": "markdown",
      "source": [
        "# **Load ResNet18**"
      ],
      "metadata": {
        "id": "a0xT0OmNlhVM"
      }
    },
    {
      "cell_type": "code",
      "source": [
        "device = torch.device(\"cuda\" if torch.cuda.is_available() else \"cpu\")\n",
        "\n",
        "resnet = models.resnet18(pretrained=True)\n",
        "\n",
        "# Freeze earlier layers (optional)\n",
        "for param in resnet.parameters():\n",
        "    param.requires_grad = False\n",
        "\n",
        "# Replace final FC layer for 3-class output\n",
        "num_ftrs = resnet.fc.in_features\n",
        "resnet.fc = nn.Linear(num_ftrs, 3)  # 3 classes: Active, Obsolete, Healthy\n",
        "resnet = resnet.to(device)"
      ],
      "metadata": {
        "colab": {
          "base_uri": "https://localhost:8080/"
        },
        "id": "ng0vqPVdldR2",
        "outputId": "46247809-73ea-4779-894e-00b6d1380c68"
      },
      "execution_count": 4,
      "outputs": [
        {
          "output_type": "stream",
          "name": "stderr",
          "text": [
            "/usr/local/lib/python3.11/dist-packages/torchvision/models/_utils.py:208: UserWarning: The parameter 'pretrained' is deprecated since 0.13 and may be removed in the future, please use 'weights' instead.\n",
            "  warnings.warn(\n",
            "/usr/local/lib/python3.11/dist-packages/torchvision/models/_utils.py:223: UserWarning: Arguments other than a weight enum or `None` for 'weights' are deprecated since 0.13 and may be removed in the future. The current behavior is equivalent to passing `weights=ResNet18_Weights.IMAGENET1K_V1`. You can also use `weights=ResNet18_Weights.DEFAULT` to get the most up-to-date weights.\n",
            "  warnings.warn(msg)\n",
            "Downloading: \"https://download.pytorch.org/models/resnet18-f37072fd.pth\" to /root/.cache/torch/hub/checkpoints/resnet18-f37072fd.pth\n",
            "100%|██████████| 44.7M/44.7M [00:00<00:00, 122MB/s]\n"
          ]
        }
      ]
    },
    {
      "cell_type": "markdown",
      "source": [
        "# **Loss Function, Optimizer**"
      ],
      "metadata": {
        "id": "zZ5qxzqxlqOx"
      }
    },
    {
      "cell_type": "code",
      "source": [
        "criterion = nn.CrossEntropyLoss()\n",
        "optimizer = optim.Adam(resnet.fc.parameters(), lr=0.001)  # Only train final layer"
      ],
      "metadata": {
        "id": "L9ex-iLtlg5T"
      },
      "execution_count": 5,
      "outputs": []
    },
    {
      "cell_type": "markdown",
      "source": [
        "# **Training Loop**"
      ],
      "metadata": {
        "id": "vBz1JlvRly8C"
      }
    },
    {
      "cell_type": "code",
      "source": [
        "num_epochs = 10\n",
        "\n",
        "for epoch in range(num_epochs):\n",
        "    resnet.train()\n",
        "    running_loss = 0.0\n",
        "    correct = 0\n",
        "    total = 0\n",
        "\n",
        "    for inputs, labels in train_loader:\n",
        "        inputs, labels = inputs.to(device), labels.to(device)\n",
        "\n",
        "        optimizer.zero_grad()\n",
        "        outputs = resnet(inputs)\n",
        "        loss = criterion(outputs, labels)\n",
        "        loss.backward()\n",
        "        optimizer.step()\n",
        "\n",
        "        running_loss += loss.item()\n",
        "        _, preds = torch.max(outputs, 1)\n",
        "        total += labels.size(0)\n",
        "        correct += (preds == labels).sum().item()\n",
        "\n",
        "    train_acc = correct / total * 100\n",
        "    print(f\"Epoch {epoch+1}/{num_epochs} | Loss: {running_loss:.4f} | Train Acc: {train_acc:.2f}%\")"
      ],
      "metadata": {
        "colab": {
          "base_uri": "https://localhost:8080/"
        },
        "id": "iB3HrFOxlpX7",
        "outputId": "e49e290b-a6b0-414a-b4c2-83a733a294ee"
      },
      "execution_count": 6,
      "outputs": [
        {
          "output_type": "stream",
          "name": "stdout",
          "text": [
            "Epoch 1/10 | Loss: 61.6884 | Train Acc: 60.75%\n",
            "Epoch 2/10 | Loss: 45.3358 | Train Acc: 71.67%\n",
            "Epoch 3/10 | Loss: 41.0477 | Train Acc: 74.88%\n",
            "Epoch 4/10 | Loss: 37.4875 | Train Acc: 77.67%\n",
            "Epoch 5/10 | Loss: 36.4281 | Train Acc: 77.67%\n",
            "Epoch 6/10 | Loss: 35.4055 | Train Acc: 78.96%\n",
            "Epoch 7/10 | Loss: 34.1363 | Train Acc: 79.46%\n",
            "Epoch 8/10 | Loss: 32.6970 | Train Acc: 80.88%\n",
            "Epoch 9/10 | Loss: 33.7095 | Train Acc: 79.12%\n",
            "Epoch 10/10 | Loss: 32.8077 | Train Acc: 80.33%\n"
          ]
        }
      ]
    },
    {
      "cell_type": "markdown",
      "source": [
        "# **Evaluation For ResNet18**"
      ],
      "metadata": {
        "id": "TlKzTJo1mbtV"
      }
    },
    {
      "cell_type": "code",
      "source": [
        "from sklearn.metrics import classification_report, confusion_matrix, roc_auc_score\n",
        "from sklearn.preprocessing import label_binarize\n",
        "import numpy as np\n",
        "import matplotlib.pyplot as plt\n",
        "import seaborn as sns"
      ],
      "metadata": {
        "id": "RhOPv48qmfsK"
      },
      "execution_count": 7,
      "outputs": []
    },
    {
      "cell_type": "markdown",
      "source": [
        "# **Get Predictions From Validation Set**"
      ],
      "metadata": {
        "id": "1bhHmLOCmi9P"
      }
    },
    {
      "cell_type": "code",
      "source": [
        "resnet.eval()\n",
        "all_preds = []\n",
        "all_labels = []\n",
        "all_probs = []\n",
        "\n",
        "with torch.no_grad():\n",
        "    for inputs, labels in val_loader:\n",
        "        inputs = inputs.to(device)\n",
        "        outputs = resnet(inputs)\n",
        "        probs = torch.softmax(outputs, dim=1).cpu().numpy()\n",
        "        preds = np.argmax(probs, axis=1)\n",
        "\n",
        "        all_preds.extend(preds)\n",
        "        all_labels.extend(labels.numpy())\n",
        "        all_probs.extend(probs)"
      ],
      "metadata": {
        "id": "h4udx3r4mh9Q"
      },
      "execution_count": 8,
      "outputs": []
    },
    {
      "cell_type": "markdown",
      "source": [
        "# **Classification Report**"
      ],
      "metadata": {
        "id": "QXKhHoQRmqij"
      }
    },
    {
      "cell_type": "code",
      "source": [
        "class_labels = dataset.classes\n",
        "\n",
        "print(\"📊 Classification Report:\")\n",
        "print(classification_report(all_labels, all_preds, target_names=class_labels))"
      ],
      "metadata": {
        "colab": {
          "base_uri": "https://localhost:8080/"
        },
        "id": "MoJVuHlvmpw1",
        "outputId": "6b1dc05d-674f-4517-8de1-dec6d04a529a"
      },
      "execution_count": 9,
      "outputs": [
        {
          "output_type": "stream",
          "name": "stdout",
          "text": [
            "📊 Classification Report:\n",
            "                               precision    recall  f1-score   support\n",
            "\n",
            "           ActiveTuberculosis       0.69      0.63      0.66       202\n",
            "ObsoletePulmonaryTuberculosis       0.69      0.73      0.71       211\n",
            "                       health       0.94      0.96      0.95       187\n",
            "\n",
            "                     accuracy                           0.77       600\n",
            "                    macro avg       0.77      0.77      0.77       600\n",
            "                 weighted avg       0.76      0.77      0.76       600\n",
            "\n"
          ]
        }
      ]
    },
    {
      "cell_type": "markdown",
      "source": [
        "# **Confusion Matrix**"
      ],
      "metadata": {
        "id": "zmYQ9xqJm0vB"
      }
    },
    {
      "cell_type": "code",
      "source": [
        "cm = confusion_matrix(all_labels, all_preds)\n",
        "\n",
        "plt.figure(figsize=(6,5))\n",
        "sns.heatmap(cm, annot=True, fmt='d', cmap='Blues',\n",
        "            xticklabels=class_labels,\n",
        "            yticklabels=class_labels)\n",
        "plt.xlabel('Predicted')\n",
        "plt.ylabel('Actual')\n",
        "plt.title('Confusion Matrix')\n",
        "plt.show()"
      ],
      "metadata": {
        "colab": {
          "base_uri": "https://localhost:8080/",
          "height": 694
        },
        "id": "Ept6XOBDmwiV",
        "outputId": "389d9d74-96dc-4c38-d582-606d3bcb6d52"
      },
      "execution_count": 10,
      "outputs": [
        {
          "output_type": "display_data",
          "data": {
            "text/plain": [
              "<Figure size 600x500 with 2 Axes>"
            ],
            "image/png": "[encoded data removed]"
          },
          "metadata": {}
        }
      ]
    },
    {
      "cell_type": "markdown",
      "source": [
        "# **AUC-ROC Score**"
      ],
      "metadata": {
        "id": "RnbZ7SzPm5_X"
      }
    },
    {
      "cell_type": "code",
      "source": [
        "# Binarize true labels\n",
        "y_true_bin = label_binarize(all_labels, classes=[0, 1, 2])\n",
        "y_score = np.array(all_probs)\n",
        "\n",
        "auc_score = roc_auc_score(y_true_bin, y_score, average='macro', multi_class='ovr')\n",
        "print(f\"🔥 AUC-ROC (macro-average): {auc_score:.4f}\")"
      ],
      "metadata": {
        "colab": {
          "base_uri": "https://localhost:8080/"
        },
        "id": "h3Woggypm5Or",
        "outputId": "e43c0000-814e-4703-da08-1cdfdeba5af0"
      },
      "execution_count": 11,
      "outputs": [
        {
          "output_type": "stream",
          "name": "stdout",
          "text": [
            "🔥 AUC-ROC (macro-average): 0.9020\n"
          ]
        }
      ]
    },
    {
      "cell_type": "markdown",
      "source": [
        "# **Saving The Pytorch Model**"
      ],
      "metadata": {
        "id": "AOfR6Q0LrZaZ"
      }
    },
    {
      "cell_type": "code",
      "source": [
        "torch.save(resnet.state_dict(), 'resnet18_tuberculosis.pth')"
      ],
      "metadata": {
        "id": "MEFfnOOCrdsJ"
      },
      "execution_count": 12,
      "outputs": []
    },
    {
      "cell_type": "code",
      "source": [
        "torch.save(resnet, 'resnet18_full_model.pt')"
      ],
      "metadata": {
        "id": "so3BlNaAreXz"
      },
      "execution_count": 13,
      "outputs": []
    },
    {
      "cell_type": "code",
      "source": [
        "from google.colab import files\n",
        "files.download(\"resnet18_tuberculosis.pth\")  # or \"resnet18_full_model.pt\""
      ],
      "metadata": {
        "colab": {
          "base_uri": "https://localhost:8080/",
          "height": 17
        },
        "id": "9wt_t2cTryMk",
        "outputId": "e4dc381a-f5aa-44af-e3a1-5e91172e27a4"
      },
      "execution_count": 14,
      "outputs": [
        {
          "output_type": "display_data",
          "data": {
            "text/plain": [
              "<IPython.core.display.Javascript object>"
            ],
            "application/javascript": [
              "\n",
              "    async function download(id, filename, size) {\n",
              "      if (!google.colab.kernel.accessAllowed) {\n",
              "        return;\n",
              "      }\n",
              "      const div = document.createElement('div');\n",
              "      const label = document.createElement('label');\n",
              "      label.textContent = `Downloading \"${filename}\": `;\n",
              "      div.appendChild(label);\n",
              "      const progress = document.createElement('progress');\n",
              "      progress.max = size;\n",
              "      div.appendChild(progress);\n",
              "      document.body.appendChild(div);\n",
              "\n",
              "      const buffers = [];\n",
              "      let downloaded = 0;\n",
              "\n",
              "      const channel = await google.colab.kernel.comms.open(id);\n",
              "      // Send a message to notify the kernel that we're ready.\n",
              "      channel.send({})\n",
              "\n",
              "      for await (const message of channel.messages) {\n",
              "        // Send a message to notify the kernel that we're ready.\n",
              "        channel.send({})\n",
              "        if (message.buffers) {\n",
              "          for (const buffer of message.buffers) {\n",
              "            buffers.push(buffer);\n",
              "            downloaded += buffer.byteLength;\n",
              "            progress.value = downloaded;\n",
              "          }\n",
              "        }\n",
              "      }\n",
              "      const blob = new Blob(buffers, {type: 'application/binary'});\n",
              "      const a = document.createElement('a');\n",
              "      a.href = window.URL.createObjectURL(blob);\n",
              "      a.download = filename;\n",
              "      div.appendChild(a);\n",
              "      a.click();\n",
              "      div.remove();\n",
              "    }\n",
              "  "
            ]
          },
          "metadata": {}
        },
        {
          "output_type": "display_data",
          "data": {
            "text/plain": [
              "<IPython.core.display.Javascript object>"
            ],
            "application/javascript": [
              "download(\"download_ab7cd0d3-3776-46b2-bd5b-b26454de4d96\", \"resnet18_tuberculosis.pth\", 44792802)"
            ]
          },
          "metadata": {}
        }
      ]
    },
    {
      "cell_type": "markdown",
      "source": [
        "# **To Improve Accuracy**"
      ],
      "metadata": {
        "id": "2wiQsAJCsqfh"
      }
    },
    {
      "cell_type": "code",
      "source": [
        "# Unfreeze all layers\n",
        "for param in resnet.parameters():\n",
        "    param.requires_grad = True\n",
        "\n",
        "# Optionally freeze just first few layers (e.g., up to layer1)\n",
        "for name, param in resnet.named_parameters():\n",
        "    if \"layer1\" in name:\n",
        "        param.requires_grad = False"
      ],
      "metadata": {
        "id": "hhm5vzbTry9o"
      },
      "execution_count": 15,
      "outputs": []
    },
    {
      "cell_type": "code",
      "source": [
        "optimizer = torch.optim.Adam(resnet.parameters(), lr=1e-4)"
      ],
      "metadata": {
        "id": "WP_NY07isxKO"
      },
      "execution_count": 16,
      "outputs": []
    },
    {
      "cell_type": "markdown",
      "source": [
        "# **Model Performance Improvement**"
      ],
      "metadata": {
        "id": "Xt3LbrdVs0lN"
      }
    },
    {
      "cell_type": "code",
      "source": [
        "import torch\n",
        "import torch.nn as nn\n",
        "import torch.optim as optim\n",
        "from torchvision import datasets, transforms, models\n",
        "from torch.utils.data import DataLoader, random_split\n",
        "\n",
        "# === CONFIG ===\n",
        "data_dir = \"/content/drive/MyDrive/BSFYP-25/BalancedActivePulmonaryTBData\"  # UPDATE THIS\n",
        "batch_size = 32\n",
        "num_epochs = 20\n",
        "device = torch.device(\"cuda\" if torch.cuda.is_available() else \"cpu\")"
      ],
      "metadata": {
        "id": "JJpqHar3sxyx"
      },
      "execution_count": 27,
      "outputs": []
    },
    {
      "cell_type": "code",
      "source": [
        "class FocalLoss(nn.Module):\n",
        "    def __init__(self, gamma=2.0, weight=None):\n",
        "        super(FocalLoss, self).__init__()\n",
        "        self.gamma = gamma\n",
        "        self.ce = nn.CrossEntropyLoss(weight=weight, reduction='none')\n",
        "\n",
        "    def forward(self, input, target):\n",
        "        ce_loss = self.ce(input, target)\n",
        "        pt = torch.exp(-ce_loss)\n",
        "        focal_loss = ((1 - pt) ** self.gamma) * ce_loss\n",
        "        return focal_loss.mean()"
      ],
      "metadata": {
        "id": "0hQGufRRtrTt"
      },
      "execution_count": 28,
      "outputs": []
    },
    {
      "cell_type": "code",
      "source": [
        "transform = transforms.Compose([\n",
        "    transforms.Resize((224, 224)),\n",
        "    transforms.ToTensor(),\n",
        "    transforms.Normalize(mean=[0.485, 0.456, 0.406],\n",
        "                         std=[0.229, 0.224, 0.225])\n",
        "])\n",
        "\n",
        "dataset = datasets.ImageFolder(root=data_dir, transform=transform)\n",
        "class_names = dataset.classes\n",
        "\n",
        "# 80/20 split\n",
        "train_size = int(0.8 * len(dataset))\n",
        "val_size = len(dataset) - train_size\n",
        "train_dataset, val_dataset = random_split(dataset, [train_size, val_size])\n",
        "\n",
        "train_loader = DataLoader(train_dataset, batch_size=batch_size, shuffle=True)\n",
        "val_loader = DataLoader(val_dataset, batch_size=batch_size, shuffle=False)"
      ],
      "metadata": {
        "id": "_fOKN6iUuGRz"
      },
      "execution_count": 29,
      "outputs": []
    },
    {
      "cell_type": "code",
      "source": [
        "resnet = models.resnet18(pretrained=True)\n",
        "\n",
        "# Unfreeze ALL layers\n",
        "for param in resnet.parameters():\n",
        "    param.requires_grad = True\n",
        "\n",
        "# Replace FC layer for 3 classes\n",
        "num_ftrs = resnet.fc.in_features\n",
        "resnet.fc = nn.Linear(num_ftrs, 3)\n",
        "resnet = resnet.to(device)"
      ],
      "metadata": {
        "colab": {
          "base_uri": "https://localhost:8080/"
        },
        "id": "0_9GP_7cuRs0",
        "outputId": "ffdc3177-8111-4272-8134-12c99d21ffcc"
      },
      "execution_count": 30,
      "outputs": [
        {
          "output_type": "stream",
          "name": "stderr",
          "text": [
            "/usr/local/lib/python3.11/dist-packages/torchvision/models/_utils.py:208: UserWarning: The parameter 'pretrained' is deprecated since 0.13 and may be removed in the future, please use 'weights' instead.\n",
            "  warnings.warn(\n",
            "/usr/local/lib/python3.11/dist-packages/torchvision/models/_utils.py:223: UserWarning: Arguments other than a weight enum or `None` for 'weights' are deprecated since 0.13 and may be removed in the future. The current behavior is equivalent to passing `weights=ResNet18_Weights.IMAGENET1K_V1`. You can also use `weights=ResNet18_Weights.DEFAULT` to get the most up-to-date weights.\n",
            "  warnings.warn(msg)\n"
          ]
        }
      ]
    },
    {
      "cell_type": "code",
      "source": [
        "# Class weights: boost TB classes\n",
        "weights = torch.tensor([2.0, 2.0, 1.0]).to(device)\n",
        "criterion = FocalLoss(gamma=2.0, weight=weights)\n",
        "\n",
        "optimizer = optim.Adam(resnet.parameters(), lr=1e-4)\n",
        "scheduler = optim.lr_scheduler.StepLR(optimizer, step_size=3, gamma=0.5)"
      ],
      "metadata": {
        "id": "fM63DlHDusRb"
      },
      "execution_count": 31,
      "outputs": []
    },
    {
      "cell_type": "code",
      "source": [
        "for epoch in range(num_epochs):\n",
        "    resnet.train()\n",
        "    running_loss = 0.0\n",
        "    correct = 0\n",
        "    total = 0\n",
        "\n",
        "    for inputs, labels in train_loader:\n",
        "        inputs, labels = inputs.to(device), labels.to(device)\n",
        "\n",
        "        optimizer.zero_grad()\n",
        "        outputs = resnet(inputs)\n",
        "        loss = criterion(outputs, labels)\n",
        "        loss.backward()\n",
        "        optimizer.step()\n",
        "\n",
        "        running_loss += loss.item()\n",
        "        _, preds = torch.max(outputs, 1)\n",
        "        correct += (preds == labels).sum().item()\n",
        "        total += labels.size(0)\n",
        "\n",
        "    scheduler.step()\n",
        "\n",
        "    train_acc = correct / total * 100\n",
        "    print(f\"Epoch {epoch+1}/{num_epochs} | Loss: {running_loss:.4f} | Train Acc: {train_acc:.2f}%\")"
      ],
      "metadata": {
        "colab": {
          "base_uri": "https://localhost:8080/"
        },
        "id": "0DIdekkWuvXb",
        "outputId": "5144fb8d-1210-4647-e2dd-754fc8fb673d"
      },
      "execution_count": 32,
      "outputs": [
        {
          "output_type": "stream",
          "name": "stdout",
          "text": [
            "Epoch 1/20 | Loss: 38.6526 | Train Acc: 79.83%\n",
            "Epoch 2/20 | Loss: 6.5661 | Train Acc: 97.12%\n",
            "Epoch 3/20 | Loss: 1.2477 | Train Acc: 99.62%\n",
            "Epoch 4/20 | Loss: 0.3414 | Train Acc: 99.96%\n",
            "Epoch 5/20 | Loss: 0.2992 | Train Acc: 100.00%\n",
            "Epoch 6/20 | Loss: 0.1444 | Train Acc: 100.00%\n",
            "Epoch 7/20 | Loss: 0.0988 | Train Acc: 100.00%\n",
            "Epoch 8/20 | Loss: 0.0607 | Train Acc: 100.00%\n",
            "Epoch 9/20 | Loss: 0.1526 | Train Acc: 99.92%\n",
            "Epoch 10/20 | Loss: 0.1106 | Train Acc: 100.00%\n",
            "Epoch 11/20 | Loss: 0.2430 | Train Acc: 99.96%\n",
            "Epoch 12/20 | Loss: 0.0557 | Train Acc: 100.00%\n",
            "Epoch 13/20 | Loss: 0.0310 | Train Acc: 100.00%\n",
            "Epoch 14/20 | Loss: 0.0992 | Train Acc: 99.88%\n",
            "Epoch 15/20 | Loss: 0.0696 | Train Acc: 100.00%\n",
            "Epoch 16/20 | Loss: 0.0554 | Train Acc: 100.00%\n",
            "Epoch 17/20 | Loss: 0.0321 | Train Acc: 100.00%\n",
            "Epoch 18/20 | Loss: 0.0359 | Train Acc: 100.00%\n",
            "Epoch 19/20 | Loss: 0.0354 | Train Acc: 100.00%\n",
            "Epoch 20/20 | Loss: 0.0269 | Train Acc: 100.00%\n"
          ]
        }
      ]
    },
    {
      "cell_type": "code",
      "source": [
        "resnet.eval()\n",
        "all_preds = []\n",
        "all_labels = []\n",
        "all_probs = []\n",
        "\n",
        "with torch.no_grad():\n",
        "    for inputs, labels in val_loader:\n",
        "        inputs = inputs.to(device)\n",
        "        outputs = resnet(inputs)\n",
        "        probs = torch.softmax(outputs, dim=1).cpu().numpy()\n",
        "        preds = np.argmax(probs, axis=1)\n",
        "\n",
        "        all_preds.extend(preds)\n",
        "        all_labels.extend(labels.numpy())\n",
        "        all_probs.extend(probs)"
      ],
      "metadata": {
        "id": "DvAeyVGhw5p0"
      },
      "execution_count": 33,
      "outputs": []
    },
    {
      "cell_type": "code",
      "source": [
        "class_labels = dataset.classes  # ['ActiveTuberculosis', 'ObsoletePulmonaryTuberculosis', 'health']\n",
        "\n",
        "print(\"📊 Classification Report:\")\n",
        "print(classification_report(all_labels, all_preds, target_names=class_labels))"
      ],
      "metadata": {
        "colab": {
          "base_uri": "https://localhost:8080/"
        },
        "id": "2YsFxyKzw9t-",
        "outputId": "3933fc68-b4e4-4e3d-d396-6bfffc3d2299"
      },
      "execution_count": 34,
      "outputs": [
        {
          "output_type": "stream",
          "name": "stdout",
          "text": [
            "📊 Classification Report:\n",
            "                               precision    recall  f1-score   support\n",
            "\n",
            "           ActiveTuberculosis       0.91      0.81      0.86       215\n",
            "ObsoletePulmonaryTuberculosis       0.83      0.90      0.86       191\n",
            "                       health       0.96      0.99      0.98       194\n",
            "\n",
            "                     accuracy                           0.90       600\n",
            "                    macro avg       0.90      0.90      0.90       600\n",
            "                 weighted avg       0.90      0.90      0.90       600\n",
            "\n"
          ]
        }
      ]
    },
    {
      "cell_type": "code",
      "source": [
        "cm = confusion_matrix(all_labels, all_preds)\n",
        "\n",
        "plt.figure(figsize=(6,5))\n",
        "sns.heatmap(cm, annot=True, fmt='d', cmap='Blues',\n",
        "            xticklabels=class_labels,\n",
        "            yticklabels=class_labels)\n",
        "plt.xlabel('Predicted')\n",
        "plt.ylabel('Actual')\n",
        "plt.title('Confusion Matrix')\n",
        "plt.show()"
      ],
      "metadata": {
        "colab": {
          "base_uri": "https://localhost:8080/",
          "height": 694
        },
        "id": "cOCV66BkxBnI",
        "outputId": "8d8fb4f8-70a4-4b79-b829-1fe0d32f544d"
      },
      "execution_count": 35,
      "outputs": [
        {
          "output_type": "display_data",
          "data": {
            "text/plain": [
              "<Figure size 600x500 with 2 Axes>"
            ],
            "image/png": "[encoded data removed]"
          },
          "metadata": {}
        }
      ]
    },
    {
      "cell_type": "code",
      "source": [
        "# Binarize labels for multiclass ROC\n",
        "y_true_bin = label_binarize(all_labels, classes=[0, 1, 2])\n",
        "y_score = np.array(all_probs)\n",
        "\n",
        "auc_score = roc_auc_score(y_true_bin, y_score, average='macro', multi_class='ovr')\n",
        "print(f\"🔥 AUC-ROC (macro-average): {auc_score:.4f}\")"
      ],
      "metadata": {
        "colab": {
          "base_uri": "https://localhost:8080/"
        },
        "id": "gZGagbecxIVK",
        "outputId": "acd972c3-37f2-4eec-8f11-dcd03a53e69e"
      },
      "execution_count": 36,
      "outputs": [
        {
          "output_type": "stream",
          "name": "stdout",
          "text": [
            "🔥 AUC-ROC (macro-average): 0.9815\n"
          ]
        }
      ]
    },
    {
      "cell_type": "code",
      "source": [
        "torch.save(resnet.state_dict(), \"resnet18_tb_final.pth\")"
      ],
      "metadata": {
        "id": "pR3KBxTaxJOO"
      },
      "execution_count": 37,
      "outputs": []
    }
  ]
}